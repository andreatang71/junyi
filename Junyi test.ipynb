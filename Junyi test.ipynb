{
 "cells": [
  {
   "cell_type": "code",
   "execution_count": 17,
   "metadata": {},
   "outputs": [
    {
     "name": "stdout",
     "output_type": "stream",
     "text": [
      "ymedacaiynuj"
     ]
    }
   ],
   "source": [
    "#1a\n",
    "string = \"junyiacademy\"\n",
    "for i in range(len(string)):\n",
    "    print(str[len(string) - 1 - i], end = \"\")"
   ]
  },
  {
   "cell_type": "code",
   "execution_count": 45,
   "metadata": {},
   "outputs": [
    {
     "name": "stdout",
     "output_type": "stream",
     "text": [
      "deppilf\n",
      "ssalc\n",
      "moor\n",
      "si\n",
      "tnatropmi\n"
     ]
    }
   ],
   "source": [
    "#1b\n",
    "import re\n",
    "string = \"flipped class room is important\"\n",
    "lst = string.split()\n",
    "for i in range(len(lst)):\n",
    "    for j in range(len(lst[i])):\n",
    "        print(lst[i][len(lst[i]) - 1 - j], end = \"\")\n",
    "    print(\"\")\n",
    "    "
   ]
  },
  {
   "cell_type": "code",
   "execution_count": 11,
   "metadata": {},
   "outputs": [
    {
     "name": "stdout",
     "output_type": "stream",
     "text": [
      "15\n",
      "9\n"
     ]
    }
   ],
   "source": [
    "#2\n",
    "n = int(input())\n",
    "lst = [i for i in range(1, n+1) if (i%3 != 0 and i%5 != 0) or (i%15 == 0) ]\n",
    "print(len(lst))"
   ]
  },
  {
   "cell_type": "markdown",
   "metadata": {},
   "source": [
    "###Q3\n",
    "~~~\n",
    "取一次標示\"混和\"的袋子中的筆即可推論出結果。\n",
    "可能的狀況有兩種：\n",
    "(1) \"混和\"的袋子中取出鉛筆：\n",
    "    則此袋中一定只裝鉛筆，而另外剩下\"原子筆\"及\"鉛筆\"兩袋中，一個全裝原子筆一個則是混和，因此\"原子筆\"此袋中一定是混和，而\"鉛筆\"中則是全裝原子筆。\n",
    "\n",
    "(2) \"混和\"的袋子中取出原子筆：\n",
    "    此袋中一定只裝原子筆，而另外剩下\"原子筆\"及\"鉛筆\"兩袋中，一個全裝鉛筆一個則是混和，因此\"原子筆\"此袋中一定是鉛筆，而\"鉛筆\"中則是混和。\n",
    "    \n",
    "~~~"
   ]
  },
  {
   "cell_type": "markdown",
   "metadata": {},
   "source": [
    "###Q4\n",
    "\n",
    "~~~\n",
    "題目敘述中不應該將 270*3 和 60 相加，因為服務生私吞的60元其實已經包含在270*3 = 810 這個數目裡，這樣會造成60元重複計算，而服務生退還的90元反而沒有計算到，因此式子應寫成：270*3 - 60 + 150，如此便會等於最開始付的900元。\n",
    "~~~"
   ]
  }
 ],
 "metadata": {
  "kernelspec": {
   "display_name": "Python 3",
   "language": "python",
   "name": "python3"
  },
  "language_info": {
   "codemirror_mode": {
    "name": "ipython",
    "version": 3
   },
   "file_extension": ".py",
   "mimetype": "text/x-python",
   "name": "python",
   "nbconvert_exporter": "python",
   "pygments_lexer": "ipython3",
   "version": "3.7.4"
  }
 },
 "nbformat": 4,
 "nbformat_minor": 2
}
